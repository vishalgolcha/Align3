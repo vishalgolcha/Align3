{
 "cells": [
  {
   "cell_type": "markdown",
   "metadata": {},
   "source": [
    "## ALIGN 3 : A minimax based two player game\n",
    "> The game is designed in a modular fashion . Re-Initialising the game creates a class instance of the game . \n",
    "The class variable has 2d grid state and and a list which has column states which are all initially 0 .\n",
    "Every time you cick on a specific column the value for that specific column increments. \n",
    "\n",
    "The following module implements minimax and alphabeta on setting the parameter isab equal to 1 or 0.\n",
    "The crux of the algorithm lies in backtracking.   "
   ]
  },
  {
   "cell_type": "code",
   "execution_count": null,
   "metadata": {
    "collapsed": true
   },
   "outputs": [],
   "source": [
    "def recurse(self,palpha,pbeta,minmax,depth,isab):         \n",
    "        \n",
    "        ret_val = None\n",
    "        alpha   = palpha\n",
    "        beta    = pbeta\n",
    "        self.max_depth = max(self.max_depth,depth)\n",
    "\n",
    "        if   minmax==0: # second player choosing moves\n",
    "            ret_val= 1000000007\n",
    "            \n",
    "        elif minmax==1: # first player choosing moves\n",
    "            ret_val= -1000000007\n",
    "            \n",
    "        if self.colm==[4,4,4,4]:\n",
    "            return 0 # has to be a draw since it wasn't terminated before reaching this state\n",
    "        \n",
    "        #  self.colm and self.gs are grid states , self.colm is the alias of\n",
    "        #  the succesor function here it tells us which column and row places to move to next\n",
    "        # in the grid state\n",
    "         \n",
    "        for i,j in enumerate(self.colm):\n",
    "            \n",
    "#             current position to chose / mark \n",
    "            val1 = self.colm[i] \n",
    "            val2 = i\n",
    "                        \n",
    "            if j==4:\n",
    "                continue;\n",
    "            \n",
    "            if self.gs[val1][val2]==11 or self.gs[val1][val2]==22: # likely to be replaced bya boolean grid\n",
    "                continue;\n",
    "            \n",
    "            flag1=False \n",
    "            \n",
    "            self.sett(val1,val2,minmax);\n",
    "            if self.terminate(val1,val2)== True: \n",
    "                flag1=True\n",
    "                z= self.util(minmax,depth)\n",
    "            self.reset(val1,val2);\n",
    "                \n",
    "            if flag1==False:     \n",
    "                self.colm[i]=self.colm[i]+1\n",
    "                self.sett(val1,val2,minmax);\n",
    "                z=self.recurse(alpha,beta,abs(minmax-1),depth+1,isab)\n",
    "                self.reset(val1,val2);\n",
    "                self.colm[i]=self.colm[i]-1\n",
    "                \n",
    "            if   minmax==0:\n",
    "                ret_val= min(z,ret_val)\n",
    "                beta   = min(beta,z)\n",
    "                if depth==1 :\n",
    "                    if ret_val == z :\n",
    "                        self.idx= val1\n",
    "                        self.idy= val2\n",
    "\n",
    "            elif minmax==1:\n",
    "                ret_val= max(z,ret_val)\n",
    "                alpha  = max(alpha,z)\n",
    "                if depth==1 :\n",
    "                    if ret_val == z :\n",
    "                        self.idx= val1\n",
    "                        self.idy= val2\n",
    "                        \n",
    "#           this is where it gets pruned\n",
    "            if isab==1:\n",
    "                if alpha > beta :\n",
    "                    break\n",
    "        self.cnt_nodes=self.cnt_nodes + 1       \n",
    "        return ret_val"
   ]
  },
  {
   "cell_type": "markdown",
   "metadata": {},
   "source": [
    ">The module for the board drawing is initialized as soon as the driver program is run. The input for the options to play the game with either minimax or alphabeta is given via the terminal only .\n",
    "As soon as a game is won the terminal prompts and the turtle gets back to it's starting position. \n",
    "The board is re-initialised. The analysis is also printed in the form of a list in the terminal itself after evrytime you play a minmax way or an aplha beta way . \n",
    "\n",
    ">The comparitive analysis R9:R12 was not designed due to lack of time .\n",
    ">It would be advised to play a minimax before alpha beta to produce analysis R6:R8 ."
   ]
  },
  {
   "cell_type": "markdown",
   "metadata": {},
   "source": [
    "> The program can be run after executing driver.py in the terminal . \n",
    "> Clicking on the exit button in the window leads to straight exit of the program .\n",
    "> a gif has also been provided (out12.gif) simulating program run on terminal  and is provided in the files submitted."
   ]
  },
  {
   "cell_type": "code",
   "execution_count": null,
   "metadata": {
    "collapsed": true
   },
   "outputs": [],
   "source": []
  }
 ],
 "metadata": {
  "kernelspec": {
   "display_name": "Python [conda root]",
   "language": "python",
   "name": "conda-root-py"
  },
  "language_info": {
   "codemirror_mode": {
    "name": "ipython",
    "version": 2
   },
   "file_extension": ".py",
   "mimetype": "text/x-python",
   "name": "python",
   "nbconvert_exporter": "python",
   "pygments_lexer": "ipython2",
   "version": "2.7.13"
  }
 },
 "nbformat": 4,
 "nbformat_minor": 2
}
