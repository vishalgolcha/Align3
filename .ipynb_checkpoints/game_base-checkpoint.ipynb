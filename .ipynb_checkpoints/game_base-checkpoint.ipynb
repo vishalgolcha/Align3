{
 "cells": [
  {
   "cell_type": "code",
   "execution_count": 80,
   "metadata": {
    "collapsed": false
   },
   "outputs": [
    {
     "name": "stdout",
     "output_type": "stream",
     "text": [
      "[[20, 20], [90, 20], [160, 20], [230, 20], [20, 90], [90, 90], [160, 90], [230, 90], [20, 160], [90, 160], [160, 160], [230, 160], [20, 230], [90, 230], [160, 230], [230, 230]]\n",
      "[[0, 0], [0, 1], [0, 2], [0, 3], [1, 0], [1, 1], [1, 2], [1, 3], [2, 0], [2, 1], [2, 2], [2, 3], [3, 0], [3, 1], [3, 2], [3, 3]]\n",
      "{(0, 1): 1, (1, 2): 6, (3, 2): 14, (0, 0): 0, (3, 3): 15, (3, 0): 12, (3, 1): 13, (2, 1): 9, (0, 2): 2, (2, 0): 8, (1, 3): 7, (2, 3): 11, (2, 2): 10, (1, 0): 4, (0, 3): 3, (1, 1): 5}\n",
      "[[0, 0, 11, 0], [0, 0, 0, 0], [0, 0, 0, 0], [0, 0, 0, 0]]\n"
     ]
    }
   ],
   "source": [
    "import pygame\n",
    "import align3 as game \n",
    "\n",
    "white= (255,255,255)\n",
    "black= (0,0,0)\n",
    "red  = (255,0,0)\n",
    "green= (0,255,0)\n",
    "blue = (0,0,255)\n",
    "yellow= (255,255,0)\n",
    "pygame.init()\n",
    "\n",
    "start =[20,20]\n",
    "coods =[]\n",
    "\n",
    "\n",
    "for j in range(4):\n",
    "    b= start[1]+ 70*j\n",
    "    \n",
    "    for i in range(4):\n",
    "        a= start[0]+ 70*i\n",
    "        coods.append([a,b])\n",
    "\n",
    "\n",
    "print coods\n",
    "\n",
    "def board_init(x):\n",
    "    pygame.draw.line(x,black,(20,10),(20,300))\n",
    "    pygame.draw.line(x,black,(90,10),(90,300))\n",
    "    pygame.draw.line(x,black,(160,10),(160,300))\n",
    "    pygame.draw.line(x,black,(230,10),(230,300))\n",
    "    pygame.draw.line(x,black,(300,10),(300,300))\n",
    "    \n",
    "    pygame.draw.line(x,red,(10,20),(300,20))\n",
    "    pygame.draw.line(x,red,(10,90),(300,90))\n",
    "    pygame.draw.line(x,red,(10,160),(300,160))\n",
    "    pygame.draw.line(x,red,(10,230),(300,230))\n",
    "    pygame.draw.line(x,red,(10,300),(300,300))\n",
    "\n",
    "# you'll need to define all rectangles \n",
    "rect_list=[]\n",
    "for i in coods:\n",
    "    rect_list.append(pygame.Rect(i[0],i[1],70, 70))\n",
    "\n",
    "rect_list_to_id={}\n",
    "id_to_grid=[]\n",
    "grid_to_id={}\n",
    "\n",
    "for i in range(4):\n",
    "    for j in range(4):\n",
    "        id_to_grid.append([i,j])\n",
    "\n",
    "for i in range(16):\n",
    "    grid_to_id[tuple(id_to_grid[i])]=i\n",
    "\n",
    "print id_to_grid\n",
    "print grid_to_id\n",
    "\n",
    "play = game.grid_create()\n",
    "# play.recurse(game.x,game.y,1,1)\n",
    "x_mark,y_mark=0,2\n",
    "play.perma_set(0,2,1)\n",
    "play.show_grid()\n"
   ]
  },
  {
   "cell_type": "code",
   "execution_count": 81,
   "metadata": {
    "collapsed": false
   },
   "outputs": [],
   "source": [
    "\n",
    "\n",
    "disp = pygame.display.set_mode((310,310))\n",
    "# pygame.display.flip()\n",
    "pygame.display.update()\n",
    "#2 \n",
    "gameExit = False\n",
    "pygame.display.set_caption('Align 3')\n",
    "disp.fill(white)\n",
    "board_init(disp)\n",
    "# pygame.display.update()\n",
    "\n",
    "counter=1\n",
    "\n",
    "\n",
    "to_set = grid_to_id[(x_mark,y_mark)]\n",
    "# disp.fill(white)\n",
    "# board_init(disp)\n",
    "disp.fill(blue,rect_list[to_set])\n",
    "pygame.display.update()\n"
   ]
  },
  {
   "cell_type": "code",
   "execution_count": 82,
   "metadata": {
    "collapsed": false
   },
   "outputs": [
    {
     "name": "stdout",
     "output_type": "stream",
     "text": [
      "[[0, 22, 11, 0], [0, 0, 0, 0], [0, 0, 0, 0], [0, 0, 0, 0]]\n",
      "[[0, 22, 11, 0], [0, 0, 11, 0], [0, 0, 22, 0], [0, 0, 0, 0]]\n",
      "[[0, 22, 11, 0], [0, 11, 11, 0], [0, 22, 22, 0], [0, 0, 0, 0]]\n",
      "[[11, 22, 11, 0], [0, 11, 11, 0], [0, 22, 22, 0], [0, 0, 22, 0]]\n",
      "[[11, 22, 11, 0], [11, 11, 11, 0], [22, 22, 22, 0], [0, 0, 22, 0]]\n"
     ]
    }
   ],
   "source": [
    "while not gameExit:\n",
    "    pygame.display.update()\n",
    "\n",
    "    for event in pygame.event.get():\n",
    "        if event.type == pygame.QUIT:\n",
    "                gameExit=True \n",
    "        if event.type == pygame.MOUSEBUTTONDOWN : #or event.type == pygame.MOUSEBUTTONUP:\n",
    "            # Set the x, y postions of the mouse click\n",
    "            x, y = event.pos\n",
    "            for j,i in enumerate(rect_list):\n",
    "                if i.collidepoint(x,y):\n",
    "#                     if  counter%2 ==0:\n",
    "#                     disp.fill(blue,i)\n",
    "#                     else:\n",
    "                    disp.fill(yellow,i)\n",
    "                    user_x,user_y= id_to_grid[j]\n",
    "                    play.perma_set(user_x,user_y,2)\n",
    "                    play.show_grid()\n",
    "                    pygame.display.update()\n",
    "                    \n",
    "                    play.recurse(game.x,game.y,1,1)\n",
    "                    ai_x,ai_y = play.idx,play.idy\n",
    "                    play.perma_set(ai_x,ai_y,1)\n",
    "                    to_set = grid_to_id[(ai_x,ai_y)]\n",
    "                    disp.fill(blue,rect_list[to_set])\n",
    "                    pygame.display.update()\n",
    "                    counter=counter+2\n",
    "#                     print('clicked on area')\n",
    "    \n",
    "#     pygame.draw.rect(disp,red,[100,150,300,300])\n",
    "#     board_init(disp)\n",
    "#     disp.fill(blue,rect=[200,200,50,50])\n",
    "    pygame.display.update()\n",
    "#  so basically shows a mouse event happening // or any event for that matter \n"
   ]
  },
  {
   "cell_type": "code",
   "execution_count": 83,
   "metadata": {
    "collapsed": true
   },
   "outputs": [],
   "source": [
    "pygame.quit()"
   ]
  },
  {
   "cell_type": "code",
   "execution_count": null,
   "metadata": {
    "collapsed": true
   },
   "outputs": [],
   "source": []
  }
 ],
 "metadata": {
  "anaconda-cloud": {},
  "kernelspec": {
   "display_name": "Python [conda root]",
   "language": "python",
   "name": "conda-root-py"
  },
  "language_info": {
   "codemirror_mode": {
    "name": "ipython",
    "version": 2
   },
   "file_extension": ".py",
   "mimetype": "text/x-python",
   "name": "python",
   "nbconvert_exporter": "python",
   "pygments_lexer": "ipython2",
   "version": "2.7.13"
  }
 },
 "nbformat": 4,
 "nbformat_minor": 2
}
