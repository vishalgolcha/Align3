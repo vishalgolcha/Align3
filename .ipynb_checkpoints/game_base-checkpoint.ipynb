{
 "cells": [
  {
   "cell_type": "code",
   "execution_count": 33,
   "metadata": {
    "collapsed": false
   },
   "outputs": [
    {
     "name": "stdout",
     "output_type": "stream",
     "text": [
      "[[0, 0, 11, 0], [0, 0, 0, 0], [0, 0, 0, 0], [0, 0, 0, 0]]\n"
     ]
    }
   ],
   "source": [
    "import pygame\n",
    "import align3 as game \n",
    "\n",
    "white= (255,255,255)\n",
    "black= (0,0,0)\n",
    "red  = (255,0,0)\n",
    "green= (0,255,0)\n",
    "blue = (0,0,255)\n",
    "yellow= (255,255,0)\n",
    "pygame.init()\n",
    "\n",
    "start =[20,20]\n",
    "coods =[]\n",
    "\n",
    "text_box = pygame.Rect(310,0,190,310)\n",
    "\n",
    "\n",
    "for j in range(4):\n",
    "    b= start[1]+ 70*j\n",
    "    \n",
    "    for i in range(4):\n",
    "        a= start[0]+ 70*i\n",
    "        coods.append([a,b])\n",
    "\n",
    "\n",
    "# print coods\n",
    "def text_objects(text, font):\n",
    "    textSurface = font.render(text, True, black)\n",
    "    return textSurface, textSurface.get_rect()\n",
    "\n",
    "def message_display(text,dx,dy,gameDisplay):\n",
    "    \n",
    "    disp.fill(white,text_box)\n",
    "    largeText = pygame.font.Font('freesansbold.ttf',18)\n",
    "    TextSurf, TextRect = text_objects(text, largeText)\n",
    "#     TextRect.fill((255,255,255))\n",
    "    TextRect.center = (dx,dy)\n",
    "#     pygame.display.update()\n",
    "    gameDisplay.blit(TextSurf, TextRect)\n",
    "    \n",
    "    pygame.display.update(text_box)\n",
    "#     pygame.display.update()\n",
    "\n",
    "def board_init(x):\n",
    "    pygame.draw.line(x,black,(20,10),(20,300))\n",
    "    pygame.draw.line(x,black,(90,10),(90,300))\n",
    "    pygame.draw.line(x,black,(160,10),(160,300))\n",
    "    pygame.draw.line(x,black,(230,10),(230,300))\n",
    "    pygame.draw.line(x,black,(300,10),(300,300))\n",
    "    \n",
    "    pygame.draw.line(x,red,(10,20),(300,20))\n",
    "    pygame.draw.line(x,red,(10,90),(300,90))\n",
    "    pygame.draw.line(x,red,(10,160),(300,160))\n",
    "    pygame.draw.line(x,red,(10,230),(300,230))\n",
    "    pygame.draw.line(x,red,(10,300),(300,300))\n",
    "\n",
    "# you'll need to define all rectangles \n",
    "rect_list=[]\n",
    "for i in coods:\n",
    "    rect_list.append(pygame.Rect(i[0],i[1],70, 70))\n",
    "\n",
    "rect_list_to_id={}\n",
    "id_to_grid=[]\n",
    "grid_to_id={}\n",
    "\n",
    "for i in range(4):\n",
    "    for j in range(4):\n",
    "        id_to_grid.append([i,j])\n",
    "\n",
    "for i in range(16):\n",
    "    grid_to_id[tuple(id_to_grid[i])]=i\n",
    "\n",
    "# print id_to_grid\n",
    "# print grid_to_id\n",
    "\n",
    "play = game.grid_create()\n",
    "play.recurse(game.x,game.y,1,1,1)\n",
    "x_mark,y_mark=play.idx,play.idy\n",
    "play.perma_set(x_mark,y_mark,1)\n",
    "play.show_grid()\n"
   ]
  },
  {
   "cell_type": "code",
   "execution_count": 34,
   "metadata": {
    "collapsed": false
   },
   "outputs": [],
   "source": [
    "\n",
    "\n",
    "disp = pygame.display.set_mode((500,310))\n",
    "# log_disp = pygame.display.set_mode((310,310))\n",
    "# pygame.display.flip()\n",
    "pygame.display.update()\n",
    "#2 \n",
    "gameExit = False\n",
    "pygame.display.set_caption('Align 3')\n",
    "disp.fill(white)\n",
    "board_init(disp)\n",
    "# pygame.display.update()\n",
    "\n",
    "counter=1\n",
    "\n",
    "\n",
    "to_set = grid_to_id[(x_mark,y_mark)]\n",
    "# disp.fill(white)\n",
    "# board_init(disp)\n",
    "disp.fill(blue,rect_list[to_set])\n",
    "pygame.display.update()\n",
    "message_display(\"welcome to the game\",310+95,150,disp)\n",
    "\n"
   ]
  },
  {
   "cell_type": "code",
   "execution_count": 35,
   "metadata": {
    "collapsed": false
   },
   "outputs": [
    {
     "name": "stdout",
     "output_type": "stream",
     "text": [
      "[[22, 0, 11, 0], [0, 0, 0, 0], [0, 0, 0, 0], [0, 0, 0, 0]]\n",
      "0 3\n",
      "[[22, 22, 11, 11], [0, 0, 0, 0], [0, 0, 0, 0], [0, 0, 0, 0]]\n",
      "1 3\n",
      "[[22, 22, 11, 11], [0, 0, 0, 11], [0, 0, 0, 22], [0, 0, 0, 0]]\n",
      "1 2\n",
      "[[22, 22, 11, 11], [0, 0, 11, 11], [0, 0, 22, 22], [0, 0, 0, 0]]\n",
      "1 1\n",
      "won\n"
     ]
    }
   ],
   "source": [
    "while not gameExit:\n",
    "    pygame.display.update()\n",
    "\n",
    "    for event in pygame.event.get():\n",
    "        if event.type == pygame.QUIT:\n",
    "                gameExit=True \n",
    "        if event.type == pygame.MOUSEBUTTONDOWN : #or event.type == pygame.MOUSEBUTTONUP:\n",
    "            # Set the x, y postions of the mouse click\n",
    "            x, y = event.pos\n",
    "            for j,i in enumerate(rect_list):\n",
    "                if i.collidepoint(x,y):\n",
    "                    user_x,user_y= id_to_grid[j]\n",
    "                    if play.gs[user_x][user_y]==11 or play.gs[user_x][user_y]==22 :\n",
    "#                      show error message ask to fill another block \n",
    "                       message_display(\"invalid move\",310+95,150,disp)\n",
    "                       break\n",
    "                    \n",
    "                    disp.fill(yellow,i)\n",
    "                    user_x,user_y= id_to_grid[j]\n",
    "                    play.perma_set(user_x,user_y,2)\n",
    "                    play.show_grid()\n",
    "                    pygame.display.update()\n",
    "                    \n",
    "                    play.recurse(game.x,game.y,1,1,1)\n",
    "                    ai_x,ai_y = play.idx,play.idy\n",
    "                    play.sett(ai_x,ai_y,1)\n",
    "                    print ai_x,ai_y\n",
    "                    if play.terminate(ai_x,ai_y):\n",
    "                        message_display(str(play.gs[ai_x][ai_y])+\"won\",310+95,150,disp)\n",
    "                        print \"won\"\n",
    "                    play.perma_set(ai_x,ai_y,1)\n",
    "                    to_set = grid_to_id[(ai_x,ai_y)]\n",
    "                    disp.fill(blue,rect_list[to_set])\n",
    "                    pygame.display.update()\n",
    "                    counter=counter+2\n",
    "#                     print('clicked on area')\n",
    "    \n",
    "#     pygame.draw.rect(disp,red,[100,150,300,300])\n",
    "#     board_init(disp)\n",
    "#     disp.fill(blue,rect=[200,200,50,50])\n",
    "    pygame.display.update()\n",
    "#  so basically shows a mouse event happening // or any event for that matter \n"
   ]
  },
  {
   "cell_type": "code",
   "execution_count": 36,
   "metadata": {
    "collapsed": false
   },
   "outputs": [],
   "source": [
    "pygame.quit()"
   ]
  },
  {
   "cell_type": "code",
   "execution_count": null,
   "metadata": {
    "collapsed": true
   },
   "outputs": [],
   "source": []
  }
 ],
 "metadata": {
  "anaconda-cloud": {},
  "kernelspec": {
   "display_name": "Python [conda root]",
   "language": "python",
   "name": "conda-root-py"
  },
  "language_info": {
   "codemirror_mode": {
    "name": "ipython",
    "version": 2
   },
   "file_extension": ".py",
   "mimetype": "text/x-python",
   "name": "python",
   "nbconvert_exporter": "python",
   "pygments_lexer": "ipython2",
   "version": "2.7.13"
  }
 },
 "nbformat": 4,
 "nbformat_minor": 2
}
